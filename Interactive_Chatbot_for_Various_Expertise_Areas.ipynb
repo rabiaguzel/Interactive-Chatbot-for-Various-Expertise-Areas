{
  "nbformat": 4,
  "nbformat_minor": 0,
  "metadata": {
    "colab": {
      "provenance": []
    },
    "kernelspec": {
      "name": "python3",
      "display_name": "Python 3"
    },
    "language_info": {
      "name": "python"
    }
  },
  "cells": [
    {
      "cell_type": "code",
      "execution_count": 2,
      "metadata": {
        "colab": {
          "base_uri": "https://localhost:8080/"
        },
        "id": "IS_X_Tpm2BNH",
        "outputId": "4d418fbc-d006-4d84-8e3e-d880c4dab8ca"
      },
      "outputs": [
        {
          "output_type": "stream",
          "name": "stdout",
          "text": [
            "Collecting openai==0.28.0\n",
            "  Downloading openai-0.28.0-py3-none-any.whl.metadata (13 kB)\n",
            "Requirement already satisfied: requests>=2.20 in /usr/local/lib/python3.10/dist-packages (from openai==0.28.0) (2.32.3)\n",
            "Requirement already satisfied: tqdm in /usr/local/lib/python3.10/dist-packages (from openai==0.28.0) (4.66.5)\n",
            "Requirement already satisfied: aiohttp in /usr/local/lib/python3.10/dist-packages (from openai==0.28.0) (3.10.5)\n",
            "Requirement already satisfied: charset-normalizer<4,>=2 in /usr/local/lib/python3.10/dist-packages (from requests>=2.20->openai==0.28.0) (3.3.2)\n",
            "Requirement already satisfied: idna<4,>=2.5 in /usr/local/lib/python3.10/dist-packages (from requests>=2.20->openai==0.28.0) (3.8)\n",
            "Requirement already satisfied: urllib3<3,>=1.21.1 in /usr/local/lib/python3.10/dist-packages (from requests>=2.20->openai==0.28.0) (2.0.7)\n",
            "Requirement already satisfied: certifi>=2017.4.17 in /usr/local/lib/python3.10/dist-packages (from requests>=2.20->openai==0.28.0) (2024.8.30)\n",
            "Requirement already satisfied: aiohappyeyeballs>=2.3.0 in /usr/local/lib/python3.10/dist-packages (from aiohttp->openai==0.28.0) (2.4.0)\n",
            "Requirement already satisfied: aiosignal>=1.1.2 in /usr/local/lib/python3.10/dist-packages (from aiohttp->openai==0.28.0) (1.3.1)\n",
            "Requirement already satisfied: attrs>=17.3.0 in /usr/local/lib/python3.10/dist-packages (from aiohttp->openai==0.28.0) (24.2.0)\n",
            "Requirement already satisfied: frozenlist>=1.1.1 in /usr/local/lib/python3.10/dist-packages (from aiohttp->openai==0.28.0) (1.4.1)\n",
            "Requirement already satisfied: multidict<7.0,>=4.5 in /usr/local/lib/python3.10/dist-packages (from aiohttp->openai==0.28.0) (6.0.5)\n",
            "Requirement already satisfied: yarl<2.0,>=1.0 in /usr/local/lib/python3.10/dist-packages (from aiohttp->openai==0.28.0) (1.9.4)\n",
            "Requirement already satisfied: async-timeout<5.0,>=4.0 in /usr/local/lib/python3.10/dist-packages (from aiohttp->openai==0.28.0) (4.0.3)\n",
            "Downloading openai-0.28.0-py3-none-any.whl (76 kB)\n",
            "\u001b[?25l   \u001b[90m━━━━━━━━━━━━━━━━━━━━━━━━━━━━━━━━━━━━━━━━\u001b[0m \u001b[32m0.0/76.5 kB\u001b[0m \u001b[31m?\u001b[0m eta \u001b[36m-:--:--\u001b[0m\r\u001b[2K   \u001b[90m━━━━━━━━━━━━━━━━━━━━━━━━━━━━━━━━━━━━━━━━\u001b[0m \u001b[32m76.5/76.5 kB\u001b[0m \u001b[31m4.9 MB/s\u001b[0m eta \u001b[36m0:00:00\u001b[0m\n",
            "\u001b[?25hInstalling collected packages: openai\n",
            "Successfully installed openai-0.28.0\n"
          ]
        }
      ],
      "source": [
        "pip install openai==0.28.0\n"
      ]
    },
    {
      "cell_type": "code",
      "source": [
        "pip install chatbot"
      ],
      "metadata": {
        "colab": {
          "base_uri": "https://localhost:8080/"
        },
        "id": "eS7B66NT4XZG",
        "outputId": "d04f72ec-dc0d-496a-cefe-d7eecba5cb0d"
      },
      "execution_count": 13,
      "outputs": [
        {
          "output_type": "stream",
          "name": "stdout",
          "text": [
            "Collecting chatbot\n",
            "  Downloading chatbot-1.5.2b.tar.gz (3.9 kB)\n",
            "  Preparing metadata (setup.py) ... \u001b[?25l\u001b[?25hdone\n",
            "Building wheels for collected packages: chatbot\n",
            "  Building wheel for chatbot (setup.py) ... \u001b[?25l\u001b[?25hdone\n",
            "  Created wheel for chatbot: filename=chatbot-1.5.2b0-py3-none-any.whl size=4273 sha256=3d1f4c74d353315e2bb155a5fd9a77902b99119fc5ff3c3165e8d43b3bf6d6fc\n",
            "  Stored in directory: /root/.cache/pip/wheels/af/c3/5c/75e68484c62760630cdfd5fae129297110dae9649d0af7a34b\n",
            "Successfully built chatbot\n",
            "Installing collected packages: chatbot\n",
            "Successfully installed chatbot-1.5.2b0\n"
          ]
        }
      ]
    },
    {
      "cell_type": "code",
      "source": [
        "import openai\n",
        "\n",
        "# Set OpenAI API key\n",
        "openai.api_key = 'sk-proj-IMgxT****************************************************************************MA'\n"
      ],
      "metadata": {
        "id": "CL9VJC672l1-"
      },
      "execution_count": 24,
      "outputs": []
    },
    {
      "cell_type": "markdown",
      "source": [
        "Prompt"
      ],
      "metadata": {
        "id": "j8Kj1ggn2t3A"
      }
    },
    {
      "cell_type": "code",
      "source": [
        "def generate_prompt(expertise_area, user_input):\n",
        "    prompts = {\n",
        "        \"car repair\": \"How can I assist you with your car repair? What model is your car? What are the symptoms of the issue?\",\n",
        "        \"lawyer\": \"How can I assist you with your legal issue? What type of case are you dealing with? What legal process are you going through?\",\n",
        "        \"music teacher\": \"How can I assist you with your music education? What instrument do you play? What is your level of experience?\"\n",
        "    }\n",
        "\n",
        "    base_prompt = prompts.get(expertise_area, \"How can I assist you?\")\n",
        "    return f\"{base_prompt} If you provide more details about {user_input}, I can give you a more suitable response.\"\n"
      ],
      "metadata": {
        "id": "Dq_s-YTn2w88"
      },
      "execution_count": 16,
      "outputs": []
    },
    {
      "cell_type": "markdown",
      "source": [
        "Chatbot Response"
      ],
      "metadata": {
        "id": "8Wvm2k1Z2zrI"
      }
    },
    {
      "cell_type": "code",
      "source": [
        "def chatbot_response_with_memory(expertise_area, user_input, conversation_history):\n",
        "    prompt = generate_prompt(expertise_area, user_input)\n",
        "    conversation_history.append({\"role\": \"user\", \"content\": user_input})\n",
        "\n",
        "    response = openai.ChatCompletion.create(\n",
        "        model=\"gpt-4\",\n",
        "        messages=conversation_history + [{\"role\": \"user\", \"content\": prompt}],\n",
        "        max_tokens=150,\n",
        "        temperature=0.7\n",
        "    )\n",
        "\n",
        "    chatbot_reply = response['choices'][0]['message']['content'].strip()\n",
        "    conversation_history.append({\"role\": \"assistant\", \"content\": chatbot_reply})\n",
        "\n",
        "    return chatbot_reply, conversation_history\n"
      ],
      "metadata": {
        "id": "aOZ4FOE2245s"
      },
      "execution_count": 17,
      "outputs": []
    },
    {
      "cell_type": "markdown",
      "source": [
        "follow up questions"
      ],
      "metadata": {
        "id": "8yEa86tr28sb"
      }
    },
    {
      "cell_type": "code",
      "source": [
        "def suggest_follow_up_questions(expertise_area):\n",
        "    suggestions = {\n",
        "        \"car repair\": [\"What are the symptoms of the issue?\", \"When was the last maintenance?\", \"Have you faced the same issue before?\"],\n",
        "        \"lawyer\": [\"Are you in contact with the opposing party?\", \"What stage is the case at?\", \"What legal assistance are you seeking?\"],\n",
        "        \"music teacher\": [\"Can you share the songs you are working on?\", \"How many years have you been involved in music?\", \"What are your goals?\"]\n",
        "    }\n",
        "    return suggestions.get(expertise_area, [\"Can you provide more details?\"])\n"
      ],
      "metadata": {
        "id": "EpL81vOV2_wp"
      },
      "execution_count": 18,
      "outputs": []
    },
    {
      "cell_type": "markdown",
      "source": [
        "chatbot suggestions"
      ],
      "metadata": {
        "id": "L6_3yv6f3De2"
      }
    },
    {
      "cell_type": "code",
      "source": [
        "def chatbot_with_suggestions(expertise_area, user_input):\n",
        "    response, updated_history = chatbot_response_with_memory(expertise_area, user_input, conversation_history)\n",
        "    follow_up_suggestions = suggest_follow_up_questions(expertise_area)\n",
        "\n",
        "    return f\"{response}\\n\\nHere are some follow-up questions you can consider: {', '.join(follow_up_suggestions)}\", updated_history\n"
      ],
      "metadata": {
        "id": "TUQPMyEl3GSz"
      },
      "execution_count": 19,
      "outputs": []
    },
    {
      "cell_type": "markdown",
      "source": [
        "feedback"
      ],
      "metadata": {
        "id": "ILI_OQu-3If_"
      }
    },
    {
      "cell_type": "code",
      "source": [
        "def ask_for_feedback():\n",
        "    return \"Was this response helpful to you? Please rate from 1 to 5.\"\n"
      ],
      "metadata": {
        "id": "Ul2RzKbi3JeZ"
      },
      "execution_count": 20,
      "outputs": []
    },
    {
      "cell_type": "markdown",
      "source": [
        "main"
      ],
      "metadata": {
        "id": "ndaLSboG3MGD"
      }
    },
    {
      "cell_type": "code",
      "source": [
        "def chatbot_interaction(expertise_area, user_input):\n",
        "    response, updated_history = chatbot_with_suggestions(expertise_area, user_input)\n",
        "    return response, updated_history\n",
        "\n",
        "def main():\n",
        "    global conversation_history\n",
        "    print(\"Welcome to the chatbot application!\")\n",
        "\n",
        "    while True:\n",
        "        expertise_area = input(\"Enter the area of expertise (car repair, lawyer, music teacher): \")\n",
        "        user_input = input(\"Enter your question or information: \")\n",
        "\n",
        "        response, conversation_history = chatbot_interaction(expertise_area, user_input)\n",
        "\n",
        "        print(\"\\nChatbot Response:\")\n",
        "        print(response)\n",
        "\n",
        "        # Present follow-up questions and get responses\n",
        "        follow_up_suggestions = suggest_follow_up_questions(expertise_area)\n",
        "        print(\"\\nHere are some follow-up questions you might consider:\")\n",
        "        for idx, suggestion in enumerate(follow_up_suggestions, 1):\n",
        "            print(f\"{idx}. {suggestion}\")\n",
        "\n",
        "        feedback = input(\"\\nProvide your feedback (1-5): \")\n",
        "        if feedback.isdigit() and 1 <= int(feedback) <= 5:\n",
        "            print(\"Thank you for your feedback!\")\n",
        "        else:\n",
        "            print(\"Invalid feedback. Please provide a rating between 1 and 5.\")\n",
        "\n",
        "        continue_chat = input(\"\\nWould you like to ask something else? (y/n): \")\n",
        "        if continue_chat.lower() != 'y':\n",
        "            break\n",
        "\n",
        "if __name__ == \"__main__\":\n",
        "    main()\n"
      ],
      "metadata": {
        "colab": {
          "base_uri": "https://localhost:8080/"
        },
        "id": "8V513zG23NTp",
        "outputId": "e51915f6-7df4-43bd-a398-671ef646ebf4"
      },
      "execution_count": 26,
      "outputs": [
        {
          "name": "stdout",
          "output_type": "stream",
          "text": [
            "Welcome to the chatbot application!\n",
            "Enter the area of expertise (car repair, lawyer, music teacher): lawyer\n",
            "Enter your question or information: What are the possible defenses against a property claim?\n",
            "\n",
            "Chatbot Response:\n",
            "Defending against a property claim can be complex, and it's important to consult with an attorney to understand your options fully. However, here are some possible defenses:\n",
            "\n",
            "1. **Statute of Limitations:** In many jurisdictions, there is a time limit within which property claims must be made. If the plaintiff has exceeded this limit, it might be used as a defense.\n",
            "\n",
            "2. **Adverse Possession:** This is a legal doctrine that allows a person who possesses someone else's land for an extended period of time to claim legal title to that land.\n",
            "\n",
            "3. **Lack of Legal Standing:** If the person making the claim does not have the legal right to make the claim in the first place, this can be used as a defense.\n",
            "\n",
            "Here are some follow-up questions you can consider: Are you in contact with the opposing party?, What stage is the case at?, What legal assistance are you seeking?\n",
            "\n",
            "Here are some follow-up questions you might consider:\n",
            "1. Are you in contact with the opposing party?\n",
            "2. What stage is the case at?\n",
            "3. What legal assistance are you seeking?\n",
            "\n",
            "Provide your feedback (1-5): 3\n",
            "Thank you for your feedback!\n",
            "\n",
            "Would you like to ask something else? (y/n): n\n"
          ]
        }
      ]
    }
  ]
}